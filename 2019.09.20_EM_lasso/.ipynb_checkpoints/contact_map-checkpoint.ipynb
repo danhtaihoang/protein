{
 "cells": [
  {
   "cell_type": "code",
   "execution_count": 1,
   "metadata": {},
   "outputs": [],
   "source": [
    "import numpy as np\n",
    "from scipy import linalg\n",
    "from sklearn.preprocessing import OneHotEncoder\n",
    "import emachine as EM\n",
    "#from direct_info import direct_info,frequency\n",
    "\n",
    "from data_processing import data_processing\n",
    "import Bio.PDB, warnings\n",
    "pdb_list = Bio.PDB.PDBList()\n",
    "pdb_parser = Bio.PDB.PDBParser()\n",
    "from scipy.spatial import distance_matrix\n",
    "from Bio import BiopythonWarning\n",
    "warnings.simplefilter('ignore', BiopythonWarning)\n",
    "\n",
    "#data_path = '../protein/Pfam-A.full'\n",
    "data_path = '../'"
   ]
  },
  {
   "cell_type": "code",
   "execution_count": 2,
   "metadata": {},
   "outputs": [],
   "source": [
    "np.random.seed(1)\n",
    "pfam_id = 'PF00186'\n",
    "#pfam_id = sys.argv[1]\n",
    "\n",
    "ipdb = 0\n",
    "\n",
    "ext_name = '%s/%02d'%(pfam_id,ipdb)\n",
    "\n",
    "#--------------------------------------------\n",
    "# read data\n",
    "pdb = np.load('%s/%s/pdb_refs.npy'%(data_path,pfam_id))\n",
    "npdb = pdb.shape[0]\n",
    "\n",
    "pdb = np.array([pdb[t,i].decode('UTF-8') for t in range(pdb.shape[0]) \\\n",
    "         for i in range(pdb.shape[1])]).reshape(pdb.shape[0],pdb.shape[1])\n",
    "\n",
    "tpdb = int(pdb[ipdb,1])"
   ]
  },
  {
   "cell_type": "code",
   "execution_count": 3,
   "metadata": {},
   "outputs": [],
   "source": [
    "# data processing\n",
    "s0,cols_removed = data_processing(data_path,pfam_id,ipdb,\\\n",
    "                  gap_seqs=0.2,gap_cols=0.2,prob_low=0.004,conserved_cols=0.9)"
   ]
  },
  {
   "cell_type": "code",
   "execution_count": 4,
   "metadata": {},
   "outputs": [],
   "source": [
    "def contact_map(pdb,ipdb,cols_removed):\n",
    "    pdb_id = pdb[ipdb,5]\n",
    "    pdb_chain = pdb[ipdb,6]\n",
    "    pdb_start,pdb_end = int(pdb[ipdb,7]),int(pdb[ipdb,8])\n",
    "    #print('pdb id, chain, start, end, length:',pdb_id,pdb_chain,pdb_start,pdb_end,pdb_end-pdb_start+1)\n",
    "\n",
    "    #print('download pdb file')\n",
    "    pdb_file = pdb_list.retrieve_pdb_file(pdb_id,file_format='pdb')\n",
    "    #pdb_file = pdb_list.retrieve_pdb_file(pdb_id)\n",
    "    chain = pdb_parser.get_structure(pdb_id,pdb_file)[0][pdb_chain]\n",
    "    coords_all = np.array([a.get_coord() for a in chain.get_atoms()])\n",
    "    coords = coords_all[pdb_start-1:pdb_end]\n",
    "    #print('original pdb:')\n",
    "    #print(coords.shape)\n",
    "\n",
    "    coords_remain = np.delete(coords,cols_removed,axis=0)\n",
    "    #print(coords_remain.shape)\n",
    "\n",
    "    ct = distance_matrix(coords_remain,coords_remain)\n",
    "\n",
    "    return ct"
   ]
  },
  {
   "cell_type": "code",
   "execution_count": 5,
   "metadata": {},
   "outputs": [
    {
     "name": "stdout",
     "output_type": "stream",
     "text": [
      "Downloading PDB structure '1ZDR'...\n"
     ]
    }
   ],
   "source": [
    "ct = contact_map(pdb,ipdb,cols_removed) "
   ]
  },
  {
   "cell_type": "code",
   "execution_count": 7,
   "metadata": {},
   "outputs": [],
   "source": [
    "np.savetxt('ct.txt',ct,fmt='%f')"
   ]
  },
  {
   "cell_type": "code",
   "execution_count": null,
   "metadata": {},
   "outputs": [],
   "source": []
  }
 ],
 "metadata": {
  "kernelspec": {
   "display_name": "Python 3",
   "language": "python",
   "name": "python3"
  },
  "language_info": {
   "codemirror_mode": {
    "name": "ipython",
    "version": 3
   },
   "file_extension": ".py",
   "mimetype": "text/x-python",
   "name": "python",
   "nbconvert_exporter": "python",
   "pygments_lexer": "ipython3",
   "version": "3.7.3"
  }
 },
 "nbformat": 4,
 "nbformat_minor": 2
}
