{
 "cells": [
  {
   "cell_type": "code",
   "execution_count": 1,
   "metadata": {},
   "outputs": [],
   "source": [
    "import numpy as np\n",
    "import matplotlib.pyplot as plt\n",
    "#import emachine as EM\n",
    "\n",
    "from sklearn.preprocessing import OneHotEncoder"
   ]
  },
  {
   "cell_type": "code",
   "execution_count": 2,
   "metadata": {},
   "outputs": [],
   "source": [
    "np.random.seed(0)"
   ]
  },
  {
   "cell_type": "code",
   "execution_count": 3,
   "metadata": {},
   "outputs": [],
   "source": [
    "def generate_interactions(n,m,g,sp,i1i2):\n",
    "    nm = n*m\n",
    "    w = np.random.normal(0.0,g/np.sqrt(nm),size=(nm,nm))\n",
    "    \n",
    "    # sparse\n",
    "    for i in range(n):\n",
    "        i1,i2 = i1i2[i,0],i1i2[i,1]\n",
    "        for j in range(n):\n",
    "            j1,j2 = i1i2[j,0],i1i2[j,1]\n",
    "            if (np.abs(j-i) > 1) and (np.random.rand() < sp): \n",
    "                w[i1:i2,j1:j2] = 0.\n",
    "    \n",
    "    # sum_j wji to each position i = 0                \n",
    "    for i in range(n):        \n",
    "        i1,i2 = i1i2[i,0],i1i2[i,1]             \n",
    "        w[:,i1:i2] -= w[:,i1:i2].mean(axis=1)[:,np.newaxis]            \n",
    "\n",
    "    # no self-interactions\n",
    "    for i in range(n):\n",
    "        i1,i2 = i1i2[i,0],i1i2[i,1]\n",
    "        w[i1:i2,i1:i2] = 0.   # no self-interactions\n",
    "\n",
    "    # symmetry\n",
    "    for i in range(nm):\n",
    "        for j in range(nm):\n",
    "            if j > i: w[i,j] = w[j,i]       \n",
    "        \n",
    "    return w"
   ]
  },
  {
   "cell_type": "code",
   "execution_count": 4,
   "metadata": {},
   "outputs": [],
   "source": [
    "def ops_w_true(s,n_var,w_true):\n",
    "    #input: s[n_seq, n_var*m]: one hot   \n",
    "    n_seq,nm = s.shape\n",
    "    m = int(nm/float(n_var)) # numer of categories at each position\n",
    "\n",
    "    n_linear = int((m-1)*n_var)\n",
    "    n_quad = int(((m-1)**2)*n_var*(n_var-1)/2.)\n",
    "    n_ops = n_linear + n_quad\n",
    "        \n",
    "    ops = np.zeros((n_seq,n_ops))\n",
    "    w_true_ops = np.zeros(n_ops)\n",
    "    ij_tab = np.zeros((n_ops,2))\n",
    "    \n",
    "    iops = 0\n",
    "    # linear terms    \n",
    "    for i in range(n_var):\n",
    "        i1,i2 = i1i2[i,0],i1i2[i,1]\n",
    "        for ia in range(i1,i2-1):\n",
    "            ops[:,iops] = (s[:,ia] - s[:,i2-1])\n",
    "            w_true_ops[iops] = 0. # set bias_true = 0 for simulation data                        \n",
    "            iops += 1\n",
    "    \n",
    "    # quadratic terms\n",
    "    for i in range(n_var-1):\n",
    "        i1,i2 = i1i2[i,0],i1i2[i,1]\n",
    "        for j in range(i+1,n_var):\n",
    "            j1,j2 = i1i2[j,0],i1i2[j,1]\n",
    "            for ia in range(i1,i2-1):\n",
    "                for jb in range(j1,j2-1):\n",
    "                    ops[:,iops] = (s[:,ia] - s[:,i2-1])*(s[:,jb] - s[:,j2-1])\n",
    "                    w_true_ops[iops] = w_true[ia,jb]\n",
    "                    \n",
    "                    ij_tab[iops,0] = ia\n",
    "                    ij_tab[iops,1] = jb\n",
    "                                        \n",
    "                    iops += 1\n",
    "                        \n",
    "    return ops,w_true_ops,ij_tab"
   ]
  },
  {
   "cell_type": "code",
   "execution_count": 5,
   "metadata": {},
   "outputs": [],
   "source": [
    "def generate_seq(w_true,n_seq,n_var,m,n_sample=30):\n",
    "    samples = np.random.choice(np.arange(m),size=(n_seq*n_sample,n_var),replace=True)\n",
    "\n",
    "    onehot_encoder = OneHotEncoder(sparse=False,categories='auto')\n",
    "    s = onehot_encoder.fit_transform(samples)\n",
    "\n",
    "    ops,w_true_ops,ij_tab = ops_w_true(s,n_var,w_true)\n",
    "    energy = ops.dot(w_true_ops)# linear and quadratic\n",
    "\n",
    "    p = np.exp(energy)\n",
    "    p /= np.sum(p)\n",
    "\n",
    "    out_samples = np.random.choice(np.arange(n_seq*n_sample),size=n_seq,replace=True,p=p)\n",
    "\n",
    "    #return samples[out_samples],w_true_ops\n",
    "    return ops[out_samples],w_true_ops,ij_tab"
   ]
  },
  {
   "cell_type": "code",
   "execution_count": 6,
   "metadata": {},
   "outputs": [],
   "source": [
    "def fit(ops,n_var,m,eps=0.1,max_iter=100,alpha=0.1):    \n",
    "    n_linear = int((m-1)*n_var)\n",
    "    n_quad = int(((m-1)**2)*n_var*(n_var-1)/2.)\n",
    "    \n",
    "    cov = np.hstack([np.full(n_linear,2./m),np.full(n_quad,4./(m**2))])\n",
    "    \n",
    "    E_av = np.zeros(max_iter)\n",
    "    n_ops = ops.shape[1]\n",
    "\n",
    "    np.random.seed(13)\n",
    "    w = np.random.rand(n_ops)-0.5    \n",
    "    for i in range(max_iter):              \n",
    "        #energies_w = energy_ops(ops,w)\n",
    "        energies_w = ops.dot(w)        \n",
    "        energies_max = energies_w.max()\n",
    "        \n",
    "        # to avoid a too lager value:\n",
    "        probs_w = np.exp((energies_w-energies_max)*(eps-1)) \n",
    "        z_data = np.sum(probs_w)\n",
    "        probs_w /= z_data\n",
    "        ops_expect_w = np.sum(probs_w[:,np.newaxis]*ops,axis=0)\n",
    "\n",
    "        E_av[i] = energies_w.mean()  \n",
    "        w += alpha*(ops_expect_w - eps*w*cov)\n",
    "      \n",
    "    return w,-E_av[-1]"
   ]
  },
  {
   "cell_type": "code",
   "execution_count": 7,
   "metadata": {},
   "outputs": [],
   "source": [
    "n = 10; m = 4; g = 2. ; sp = 0.0\n",
    "\n",
    "#mx = np.array([len(np.unique(s0[:,i])) for i in range(n)])\n",
    "mx = np.array([m for i in range(n)])\n",
    "mx_cumsum = np.insert(mx.cumsum(),0,0)\n",
    "i1i2 = np.stack([mx_cumsum[:-1],mx_cumsum[1:]]).T \n",
    "\n",
    "w_true = generate_interactions(n,m,g,sp,i1i2)\n",
    "\n",
    "#plt.imshow(w_true,cmap='rainbow',origin='lower')"
   ]
  },
  {
   "cell_type": "code",
   "execution_count": 8,
   "metadata": {},
   "outputs": [],
   "source": [
    "n_seq = 10000\n",
    "n_sample = 30\n",
    "n_var = n"
   ]
  },
  {
   "cell_type": "code",
   "execution_count": 9,
   "metadata": {},
   "outputs": [],
   "source": [
    "ops,w_true_ops,ij_tab = generate_seq(w_true,n_seq,n_var,m,n_sample=30)"
   ]
  },
  {
   "cell_type": "code",
   "execution_count": 10,
   "metadata": {
    "scrolled": false
   },
   "outputs": [
    {
     "name": "stdout",
     "output_type": "stream",
     "text": [
      "0.05 -5.140193911723748\n",
      "0.1 -5.105426000415221\n",
      "0.15 -5.094837286854179\n"
     ]
    }
   ],
   "source": [
    "n_ops = ops.shape[1]\n",
    "n_linear = n_var*(m-1)\n",
    "n_quad = n_ops - n_linear\n",
    "\n",
    "eps_list = np.linspace(0.05,0.15,3)\n",
    "E_eps = np.zeros(len(eps_list))\n",
    "w_eps = np.zeros((len(eps_list),n_ops))\n",
    "for i,eps in enumerate(eps_list):\n",
    "    w_eps[i,:],E_eps[i] = fit(ops,n_var,m,eps=eps,max_iter=100)\n",
    "    print(eps,E_eps[i])"
   ]
  },
  {
   "cell_type": "code",
   "execution_count": 11,
   "metadata": {},
   "outputs": [
    {
     "data": {
      "text/plain": [
       "[<matplotlib.lines.Line2D at 0x7fefc6914b70>]"
      ]
     },
     "execution_count": 11,
     "metadata": {},
     "output_type": "execute_result"
    },
    {
     "data": {
      "image/png": "[encoded data removed]",
      "text/plain": [
       "<Figure size 432x288 with 1 Axes>"
      ]
     },
     "metadata": {
      "needs_background": "light"
     },
     "output_type": "display_data"
    }
   ],
   "source": [
    "plt.plot(eps_list,E_eps)"
   ]
  },
  {
   "cell_type": "code",
   "execution_count": 12,
   "metadata": {},
   "outputs": [
    {
     "name": "stdout",
     "output_type": "stream",
     "text": [
      "optimal eps: 0.15\n"
     ]
    }
   ],
   "source": [
    "ieps = np.argmax(E_eps)\n",
    "w_pred = w_eps[ieps]\n",
    "print('optimal eps:', eps_list[ieps])"
   ]
  },
  {
   "cell_type": "code",
   "execution_count": 13,
   "metadata": {
    "scrolled": false
   },
   "outputs": [
    {
     "data": {
      "image/png": "[encoded data removed]",
      "text/plain": [
       "<Figure size 756x201.6 with 3 Axes>"
      ]
     },
     "metadata": {
      "needs_background": "light"
     },
     "output_type": "display_data"
    }
   ],
   "source": [
    "nx,ny = 3,1\n",
    "nfig = nx*ny\n",
    "fig, ax = plt.subplots(ny,nx,figsize=(nx*3.5,ny*2.8))\n",
    "\n",
    "# linear and quadratic\n",
    "ax[0].plot([-1,1],[-1,1],'k--')\n",
    "ax[0].scatter(w_true_ops,w_pred)\n",
    "\n",
    "# linear\n",
    "ax[1].plot([-1,1],[-1,1],'k--')\n",
    "ax[1].scatter(w_true_ops[:n_linear],w_pred[:n_linear])\n",
    "\n",
    "# energy:\n",
    "energy_true = ops.dot(w_true_ops)\n",
    "energy_pred = ops.dot(w_pred)\n",
    "ax[2].plot([-5,11],[-5,11],'k--')\n",
    "ax[2].scatter(energy_true,energy_pred)\n",
    "\n",
    "plt.tight_layout(h_pad=1, w_pad=1.5)"
   ]
  },
  {
   "cell_type": "code",
   "execution_count": 14,
   "metadata": {},
   "outputs": [
    {
     "data": {
      "text/plain": [
       "0.029663037952112545"
      ]
     },
     "execution_count": 14,
     "metadata": {},
     "output_type": "execute_result"
    }
   ],
   "source": [
    "w_pred[:n_linear].mean()"
   ]
  },
  {
   "cell_type": "code",
   "execution_count": 15,
   "metadata": {},
   "outputs": [],
   "source": [
    "# convert ops index to 2d\n",
    "w_pred_2d = np.zeros((w_true.shape[0],w_true.shape[0]))\n",
    "for iops in range(n_linear,n_ops):\n",
    "    w_pred_2d[int(ij_tab[iops,0]),int(ij_tab[iops,1])] = w_pred[int(iops)]"
   ]
  },
  {
   "cell_type": "code",
   "execution_count": 16,
   "metadata": {},
   "outputs": [],
   "source": [
    "#w_pred_2d = w_pred_2d + w_pred_2d.T\n",
    "\n",
    "# infer interaction to the last animo acid at each position\n",
    "for i in range(n_var-1):\n",
    "    i1,i2 = i1i2[i,0],i1i2[i,1]\n",
    "    for j in range(i+1,n_var):\n",
    "        j1,j2 = i1i2[j,0],i1i2[j,1]        \n",
    "        w_pred_2d[i1:i2,j2-1] = -np.sum(w_pred_2d[i1:i2,:j2-1],axis=1)\n",
    "        \n",
    "for i in range(n_var-1):\n",
    "    i1,i2 = i1i2[i,0],i1i2[i,1]\n",
    "    for j in range(i+1,n_var):\n",
    "        j1,j2 = i1i2[j,0],i1i2[j,1]        \n",
    "        w_pred_2d[i2-1,j1:j2] = -np.sum(w_pred_2d[:i2-1,j1:j2],axis=0)\n",
    "        \n",
    "        #print(w_pred_2d[i1:i2,j2-1])\n",
    "\n",
    "#for i in range(n_var):\n",
    "#    i1,i2 = i1i2[i,0],i1i2[i,1]\n",
    "#    w_pred_2d[i2-1,i1:i2] = -np.sum(w_pred_2d[:i2-1,i1:i2],axis=0)    \n",
    "        "
   ]
  },
  {
   "cell_type": "code",
   "execution_count": 17,
   "metadata": {},
   "outputs": [
    {
     "data": {
      "image/png": "[encoded data removed]",
      "text/plain": [
       "<Figure size 756x201.6 with 3 Axes>"
      ]
     },
     "metadata": {
      "needs_background": "light"
     },
     "output_type": "display_data"
    }
   ],
   "source": [
    "w_pred_2d = w_pred_2d + w_pred_2d.T\n",
    "\n",
    "w0 = w_true\n",
    "w = w_pred_2d\n",
    "\n",
    "nx,ny = 3,1\n",
    "nfig = nx*ny\n",
    "fig, ax = plt.subplots(ny,nx,figsize=(nx*3.5,ny*2.8))\n",
    "\n",
    "ax[0].imshow(w0,cmap='rainbow',origin='lower')\n",
    "\n",
    "ax[1].imshow(w,cmap='rainbow',origin='lower')\n",
    "\n",
    "ax[2].plot([-1,1],[-1,1],'r--')\n",
    "ax[2].scatter(np.triu(w0),np.triu(w),s=8)\n",
    "\n",
    "plt.tight_layout(h_pad=1, w_pad=1.5)\n",
    "#plt.savefig('w.pdf', format='pdf', dpi=100)"
   ]
  },
  {
   "cell_type": "code",
   "execution_count": null,
   "metadata": {},
   "outputs": [],
   "source": []
  }
 ],
 "metadata": {
  "kernelspec": {
   "display_name": "Python 3",
   "language": "python",
   "name": "python3"
  },
  "language_info": {
   "codemirror_mode": {
    "name": "ipython",
    "version": 3
   },
   "file_extension": ".py",
   "mimetype": "text/x-python",
   "name": "python",
   "nbconvert_exporter": "python",
   "pygments_lexer": "ipython3",
   "version": "3.7.3"
  }
 },
 "nbformat": 4,
 "nbformat_minor": 2
}
