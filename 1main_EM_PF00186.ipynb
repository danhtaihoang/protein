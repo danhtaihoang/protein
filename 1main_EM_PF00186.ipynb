{
 "cells": [
  {
   "cell_type": "code",
   "execution_count": 1,
   "metadata": {},
   "outputs": [],
   "source": [
    "#import sys\n",
    "import numpy as np\n",
    "from scipy import linalg\n",
    "from sklearn.preprocessing import OneHotEncoder\n",
    "#from inference import fit_additive,fit_multiplicative\n",
    "#import emachine as EM\n",
    "from direct_info import direct_info,frequency\n",
    "\n",
    "from data_processing import data_processing\n",
    "import Bio.PDB, warnings\n",
    "pdb_list = Bio.PDB.PDBList()\n",
    "pdb_parser = Bio.PDB.PDBParser()\n",
    "from scipy.spatial import distance_matrix\n",
    "from Bio import BiopythonWarning\n",
    "warnings.simplefilter('ignore', BiopythonWarning)\n",
    "\n",
    "#data_path = '../protein/Pfam-A.full'\n",
    "\n",
    "data_path = '../'\n",
    "\n",
    "from scipy.sparse import csr_matrix\n",
    "import timeit\n",
    "from joblib import Parallel, delayed"
   ]
  },
  {
   "cell_type": "code",
   "execution_count": 2,
   "metadata": {},
   "outputs": [],
   "source": [
    "import emachine as EM"
   ]
  },
  {
   "cell_type": "code",
   "execution_count": 3,
   "metadata": {},
   "outputs": [],
   "source": [
    "np.random.seed(1)\n",
    "pfam_id = 'PF00186'\n",
    "#pfam_id = sys.argv[1]\n",
    "\n",
    "ipdb = 0\n",
    "\n",
    "ext_name = '%s/%02d'%(pfam_id,ipdb)\n",
    "\n",
    "#--------------------------------------------\n",
    "# read data\n",
    "pdb = np.load('%s/%s/pdb_refs.npy'%(data_path,pfam_id))\n",
    "npdb = pdb.shape[0]\n",
    "\n",
    "pdb = np.array([pdb[t,i].decode('UTF-8') for t in range(pdb.shape[0]) \\\n",
    "         for i in range(pdb.shape[1])]).reshape(pdb.shape[0],pdb.shape[1])\n",
    "\n",
    "tpdb = int(pdb[ipdb,1])"
   ]
  },
  {
   "cell_type": "code",
   "execution_count": 4,
   "metadata": {},
   "outputs": [],
   "source": [
    "# data processing\n",
    "s0,cols_removed = data_processing(data_path,pfam_id,ipdb,\\\n",
    "                  gap_seqs=0.2,gap_cols=0.2,prob_low=0.004,conserved_cols=0.9)"
   ]
  },
  {
   "cell_type": "code",
   "execution_count": 5,
   "metadata": {},
   "outputs": [],
   "source": [
    "# inferring h0 and w\n",
    "l,n_var = s0.shape\n",
    "\n",
    "#m = 21\n",
    "mx = np.array([len(np.unique(s0[:,i])) for i in range(n_var)])\n",
    "#mx = np.array([m for i in range(n_var)])\n",
    "mx_cumsum = np.insert(mx.cumsum(),0,0)\n",
    "i1i2 = np.stack([mx_cumsum[:-1],mx_cumsum[1:]]).T \n",
    "\n",
    "mx_sum = mx.sum()\n",
    "#my_sum = mx.sum() #!!!! my_sum = mx_sum\n",
    "#n_linear = n_var*(m-1)\n",
    "n_linear = mx_sum - n_var"
   ]
  },
  {
   "cell_type": "code",
   "execution_count": 6,
   "metadata": {
    "scrolled": true
   },
   "outputs": [
    {
     "name": "stdout",
     "output_type": "stream",
     "text": [
      "compute ops\n",
      "1565 1436281 1437846\n",
      "(6734, 1437846)\n"
     ]
    }
   ],
   "source": [
    "onehot_encoder = OneHotEncoder(sparse=False,categories='auto')\n",
    "#onehot_encoder = OneHotEncoder(sparse=False,categories=mx)\n",
    "seqs_onehot = onehot_encoder.fit_transform(s0)\n",
    "\n",
    "print('compute ops')\n",
    "ops,cov = EM.operators(seqs_onehot,n_var,i1i2,mx)\n",
    "\n",
    "ops = csr_matrix(ops)\n",
    "print(ops.shape)"
   ]
  },
  {
   "cell_type": "code",
   "execution_count": 7,
   "metadata": {},
   "outputs": [
    {
     "name": "stdout",
     "output_type": "stream",
     "text": [
      "infer w:\n",
      "run time: 453.4191291049938\n"
     ]
    }
   ],
   "source": [
    "print('infer w:')\n",
    "start_time = timeit.default_timer()\n",
    "\n",
    "eps_list = np.linspace(0.1,1.,19)\n",
    "n_eps = len(eps_list)\n",
    "res = Parallel(n_jobs = n_eps)(delayed(EM.fit)\\\n",
    "        (ops,cov,n_var,mx,eps=eps,max_iter=100)\\\n",
    "        for eps in eps_list)\n",
    "\n",
    "run_time = timeit.default_timer() - start_time\n",
    "print('run time:',run_time) "
   ]
  },
  {
   "cell_type": "code",
   "execution_count": 11,
   "metadata": {},
   "outputs": [],
   "source": [
    "w_eps = np.array([res[i][0] for i in range(len(res))])\n",
    "e_eps = np.array([res[i][1] for i in range(len(res))])\n",
    "\n",
    "#ieps = np.argmax(E_eps)\n",
    "#w = w_eps[ieps]\n",
    "#print('optimal eps:', eps_list[ieps])"
   ]
  },
  {
   "cell_type": "code",
   "execution_count": 17,
   "metadata": {},
   "outputs": [
    {
     "data": {
      "image/png": "[encoded data removed]",
      "text/plain": [
       "<Figure size 432x288 with 1 Axes>"
      ]
     },
     "metadata": {
      "needs_background": "light"
     },
     "output_type": "display_data"
    }
   ],
   "source": [
    "import matplotlib.pyplot as plt\n",
    "for i in range(9):\n",
    "    #print(e_eps[int(2*i)])\n",
    "    plt.plot(e_eps[int(2*i)])\n",
    "plt.show()"
   ]
  },
  {
   "cell_type": "code",
   "execution_count": null,
   "metadata": {},
   "outputs": [],
   "source": []
  }
 ],
 "metadata": {
  "kernelspec": {
   "display_name": "Python 3",
   "language": "python",
   "name": "python3"
  },
  "language_info": {
   "codemirror_mode": {
    "name": "ipython",
    "version": 3
   },
   "file_extension": ".py",
   "mimetype": "text/x-python",
   "name": "python",
   "nbconvert_exporter": "python",
   "pygments_lexer": "ipython3",
   "version": "3.7.3"
  }
 },
 "nbformat": 4,
 "nbformat_minor": 2
}
