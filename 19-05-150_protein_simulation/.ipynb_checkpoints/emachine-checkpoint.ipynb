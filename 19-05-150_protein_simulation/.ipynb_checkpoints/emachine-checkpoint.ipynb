{
 "cells": [
  {
   "cell_type": "code",
   "execution_count": 1,
   "metadata": {},
   "outputs": [],
   "source": [
    "import numpy as np\n",
    "import matplotlib.pyplot as plt\n",
    "import emachine as EM\n",
    "\n",
    "from sklearn.preprocessing import OneHotEncoder"
   ]
  },
  {
   "cell_type": "code",
   "execution_count": 2,
   "metadata": {},
   "outputs": [],
   "source": [
    "np.random.seed(0)"
   ]
  },
  {
   "cell_type": "code",
   "execution_count": 3,
   "metadata": {},
   "outputs": [
    {
     "data": {
      "text/plain": [
       "(50000, 40)"
      ]
     },
     "execution_count": 3,
     "metadata": {},
     "output_type": "execute_result"
    }
   ],
   "source": [
    "s0 = np.loadtxt('s0_n40m5g4sp07.txt')\n",
    "s0.shape"
   ]
  },
  {
   "cell_type": "code",
   "execution_count": 8,
   "metadata": {},
   "outputs": [],
   "source": [
    "l,n = s0.shape"
   ]
  },
  {
   "cell_type": "code",
   "execution_count": 17,
   "metadata": {},
   "outputs": [],
   "source": [
    "onehot_encoder = OneHotEncoder(sparse=False,categories='auto')\n",
    "s = onehot_encoder.fit_transform(s0)"
   ]
  },
  {
   "cell_type": "code",
   "execution_count": 18,
   "metadata": {},
   "outputs": [
    {
     "data": {
      "text/plain": [
       "(50000, 200)"
      ]
     },
     "execution_count": 18,
     "metadata": {},
     "output_type": "execute_result"
    }
   ],
   "source": [
    "s.shape"
   ]
  },
  {
   "cell_type": "code",
   "execution_count": 19,
   "metadata": {},
   "outputs": [],
   "source": [
    "ops = EM.operators(s)"
   ]
  },
  {
   "cell_type": "code",
   "execution_count": 20,
   "metadata": {},
   "outputs": [
    {
     "name": "stdout",
     "output_type": "stream",
     "text": [
      "0.4 -101.53467188821337\n",
      "0.5 -83.0641096805834\n",
      "0.6000000000000001 -70.37854694606544\n",
      "0.7000000000000001 -61.296942111783785\n",
      "0.8 -54.60154880179394\n",
      "0.9 -49.614064289165086\n"
     ]
    }
   ],
   "source": [
    "eps_list = np.linspace(0.4,0.9,6)\n",
    "E_eps = np.zeros(len(eps_list))\n",
    "w_eps = np.zeros((len(eps_list),ops.shape[1]))\n",
    "for i,eps in enumerate(eps_list):\n",
    "    w_eps[i,:],E_eps[i] = EM.fit(ops,eps=eps,max_iter=100)\n",
    "    print(eps,E_eps[i])"
   ]
  },
  {
   "cell_type": "code",
   "execution_count": 21,
   "metadata": {},
   "outputs": [
    {
     "name": "stdout",
     "output_type": "stream",
     "text": [
      "0.92 -48.78857861271446\n",
      "0.9400000000000001 -48.01761740967433\n",
      "0.96 -47.30156894433099\n",
      "0.98 -46.642031786588205\n"
     ]
    }
   ],
   "source": [
    "eps_list = np.linspace(0.92,0.98,4)\n",
    "E_eps = np.zeros(len(eps_list))\n",
    "w_eps = np.zeros((len(eps_list),ops.shape[1]))\n",
    "for i,eps in enumerate(eps_list):\n",
    "    w_eps[i,:],E_eps[i] = EM.fit(ops,eps=eps,max_iter=100)\n",
    "    print(eps,E_eps[i])"
   ]
  },
  {
   "cell_type": "code",
   "execution_count": null,
   "metadata": {},
   "outputs": [],
   "source": [
    "\n"
   ]
  }
 ],
 "metadata": {
  "kernelspec": {
   "display_name": "Python 3",
   "language": "python",
   "name": "python3"
  },
  "language_info": {
   "codemirror_mode": {
    "name": "ipython",
    "version": 3
   },
   "file_extension": ".py",
   "mimetype": "text/x-python",
   "name": "python",
   "nbconvert_exporter": "python",
   "pygments_lexer": "ipython3",
   "version": "3.7.3"
  }
 },
 "nbformat": 4,
 "nbformat_minor": 2
}
