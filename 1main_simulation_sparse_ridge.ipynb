{
 "cells": [
  {
   "cell_type": "code",
   "execution_count": 1,
   "metadata": {},
   "outputs": [],
   "source": [
    "import sys\n",
    "import numpy as np\n",
    "from scipy import linalg\n",
    "from sklearn.preprocessing import OneHotEncoder\n",
    "from inference import fit_multiplicative,fit_multiplicative_ridge\n",
    "\n",
    "import matplotlib.pyplot as plt\n",
    "%matplotlib inline"
   ]
  },
  {
   "cell_type": "code",
   "execution_count": 2,
   "metadata": {},
   "outputs": [],
   "source": [
    "np.random.seed(1)"
   ]
  },
  {
   "cell_type": "code",
   "execution_count": 3,
   "metadata": {},
   "outputs": [],
   "source": [
    "# generate coupling matrix w0: wji from j to i\n",
    "def generate_interactions(n,m,g,sp,i1i2):\n",
    "    nm = n*m\n",
    "    w = np.random.normal(0.0,g/np.sqrt(nm),size=(nm,nm))\n",
    "    \n",
    "    # sparse\n",
    "    for i in range(n):\n",
    "        i1,i2 = i1i2[i,0],i1i2[i,1]\n",
    "        for j in range(n):\n",
    "            j1,j2 = i1i2[j,0],i1i2[j,1]\n",
    "            if (np.abs(j-i) > 1) and (np.random.rand() < sp): \n",
    "                w[i1:i2,j1:j2] = 0.\n",
    "    \n",
    "    # sum_j wji to each position i = 0                \n",
    "    for i in range(n):        \n",
    "        i1,i2 = i1i2[i,0],i1i2[i,1]             \n",
    "        w[:,i1:i2] -= w[:,i1:i2].mean(axis=1)[:,np.newaxis]            \n",
    "\n",
    "    # no self-interactions\n",
    "    for i in range(n):\n",
    "        i1,i2 = i1i2[i,0],i1i2[i,1]\n",
    "        w[i1:i2,i1:i2] = 0.   # no self-interactions\n",
    "\n",
    "    # symmetry\n",
    "    for i in range(nm):\n",
    "        for j in range(nm):\n",
    "            if j > i: w[i,j] = w[j,i]       \n",
    "        \n",
    "    return w"
   ]
  },
  {
   "cell_type": "code",
   "execution_count": 4,
   "metadata": {},
   "outputs": [],
   "source": [
    "# 2018.10.27: generate time series by MCMC\n",
    "def generate_sequences(w,h0,n,m,l,i1i2):     \n",
    "    # initial s (categorical variables)\n",
    "    s_ini = np.random.randint(0,m,size=(l,n)) # integer values\n",
    "\n",
    "    # onehot encoder \n",
    "    enc = OneHotEncoder(n_values=m)\n",
    "    s = enc.fit_transform(s_ini).toarray()\n",
    "\n",
    "    nrepeat = 5*n\n",
    "    for irepeat in range(nrepeat):\n",
    "        for i in range(n):\n",
    "            i1,i2 = i1i2[i,0],i1i2[i,1]\n",
    "\n",
    "            h = h0[np.newaxis,i1:i2] + s.dot(w[:,i1:i2])  # h[t,i1:i2]\n",
    "\n",
    "            k0 = np.argmax(s[:,i1:i2],axis=1)\n",
    "            for t in range(l):\n",
    "                k = np.random.randint(0,m)                \n",
    "                while k == k0[t]:\n",
    "                    k = np.random.randint(0,m)\n",
    "                \n",
    "                if np.exp(h[t,k] - h[t,k0[t]]) > np.random.rand():\n",
    "                    s[t,i1:i2],s[t,i1+k] = 0.,1.\n",
    "\n",
    "        if irepeat%n == 0: print('irepeat:',irepeat) \n",
    "\n",
    "    return s"
   ]
  },
  {
   "cell_type": "code",
   "execution_count": 5,
   "metadata": {},
   "outputs": [],
   "source": [
    "n = 10; m = 3; g = 4. ; sp = 0.5\n",
    "\n",
    "#mx = np.array([len(np.unique(s0[:,i])) for i in range(n)])\n",
    "mx = np.array([m for i in range(n)])\n",
    "mx_cumsum = np.insert(mx.cumsum(),0,0)\n",
    "i1i2 = np.stack([mx_cumsum[:-1],mx_cumsum[1:]]).T \n",
    "\n",
    "w0 = generate_interactions(n,m,g,sp,i1i2)"
   ]
  },
  {
   "cell_type": "code",
   "execution_count": 6,
   "metadata": {
    "scrolled": true
   },
   "outputs": [
    {
     "name": "stderr",
     "output_type": "stream",
     "text": [
      "/home/tai/anaconda3/lib/python3.7/site-packages/sklearn/preprocessing/_encoders.py:331: DeprecationWarning: Passing 'n_values' is deprecated in version 0.20 and will be removed in 0.22. You can use the 'categories' keyword instead. 'n_values=n' corresponds to 'categories=[range(n)]'.\n",
      "  warnings.warn(msg, DeprecationWarning)\n"
     ]
    },
    {
     "name": "stdout",
     "output_type": "stream",
     "text": [
      "irepeat: 0\n",
      "irepeat: 10\n",
      "irepeat: 20\n",
      "irepeat: 30\n",
      "irepeat: 40\n"
     ]
    }
   ],
   "source": [
    "#l = ((n*m)**2)\n",
    "l = 2000\n",
    "h0 = np.zeros(n*m)\n",
    "s = generate_sequences(w0,h0,n,m,l,i1i2)"
   ]
  },
  {
   "cell_type": "code",
   "execution_count": 7,
   "metadata": {},
   "outputs": [],
   "source": [
    "s0 = np.array([s[:,i1i2[i,0]:i1i2[i,1]].argmax(axis=1) for i in range(n)]).T\n",
    "\n",
    "np.savetxt('w0.txt',w0,fmt='%i')\n",
    "np.savetxt('s0.txt',s0,fmt='%i')\n",
    "\n",
    "#w0 = np.loadtxt('w0_n10m3g4sp05.txt')\n",
    "#s0 = np.loadtxt('s0_n10m3g4sp05.txt')\n",
    "#print(s0.shape)"
   ]
  },
  {
   "cell_type": "code",
   "execution_count": 8,
   "metadata": {},
   "outputs": [],
   "source": [
    "#l = s0.shape[0]\n",
    "#l = 1000\n",
    "#s0 = s0[:l]"
   ]
  },
  {
   "cell_type": "code",
   "execution_count": 9,
   "metadata": {},
   "outputs": [],
   "source": [
    "#nloop = 15\n",
    "#onehot_encoder = OneHotEncoder(sparse=False,categories='auto')\n",
    "#s = onehot_encoder.fit_transform(s0)"
   ]
  },
  {
   "cell_type": "code",
   "execution_count": 11,
   "metadata": {
    "scrolled": false
   },
   "outputs": [
    {
     "name": "stdout",
     "output_type": "stream",
     "text": [
      "i0: 0\n",
      "i0: 1\n",
      "i0: 2\n",
      "i0: 3\n",
      "i0: 4\n",
      "i0: 5\n",
      "i0: 6\n",
      "i0: 7\n",
      "i0: 8\n",
      "i0: 9\n"
     ]
    }
   ],
   "source": [
    "nloop = 10\n",
    "\n",
    "mx_sum = mx.sum()\n",
    "my_sum = mx.sum() #!!!! my_sum = mx_sum\n",
    "\n",
    "w = np.zeros((mx_sum,my_sum))\n",
    "h0 = np.zeros(my_sum)\n",
    "cost = np.zeros((n,nloop))\n",
    "niter = np.zeros(n)\n",
    "\n",
    "for i0 in range(n):\n",
    "    print('i0:',i0)\n",
    "    i1,i2 = i1i2[i0,0],i1i2[i0,1]\n",
    "\n",
    "    x = np.hstack([s[:,:i1],s[:,i2:]])\n",
    "    y = s[:,i1:i2]\n",
    "    \n",
    "    w1,h01,cost1,niter1 = fit_multiplicative_ridge(x,y,nloop,lamda=0.02)\n",
    "\n",
    "    w[:i1,i1:i2] = w1[:i1,:]\n",
    "    w[i2:,i1:i2] = w1[i1:,:]\n",
    "\n",
    "    h0[i1:i2] = h01\n",
    "    cost[i0,:] = cost1\n",
    "    niter[i0] = niter1"
   ]
  },
  {
   "cell_type": "code",
   "execution_count": 14,
   "metadata": {},
   "outputs": [
    {
     "data": {
      "image/png": "[encoded data removed]",
      "text/plain": [
       "<Figure size 792x230.4 with 5 Axes>"
      ]
     },
     "metadata": {
      "needs_background": "light"
     },
     "output_type": "display_data"
    }
   ],
   "source": [
    "#np.savetxt('w_n40m5g4sp07.txt',w,fmt='%f')\n",
    "\n",
    "plt.figure(figsize=(11,3.2))\n",
    "\n",
    "plt.subplot2grid((1,3),(0,0))\n",
    "plt.title('actual interaction matrix')\n",
    "plt.imshow(w0,cmap='rainbow',origin='lower')\n",
    "plt.xlabel('j')\n",
    "plt.ylabel('i')\n",
    "plt.xticks(np.arange(0, 30, 10))\n",
    "plt.yticks(np.arange(0, 30, 10))\n",
    "plt.clim(-0.5,0.5)\n",
    "plt.colorbar(fraction=0.045, pad=0.05,ticks=[-0.5,0,0.5])\n",
    "\n",
    "plt.subplot2grid((1,3),(0,1))\n",
    "plt.title('predicted interaction matrix')\n",
    "plt.imshow(w,cmap='rainbow',origin='lower')\n",
    "plt.xlabel('j')\n",
    "plt.ylabel('i')\n",
    "plt.xticks(np.arange(0, 30, 10))\n",
    "plt.yticks(np.arange(0, 30, 10))\n",
    "plt.clim(-0.5,0.5)\n",
    "plt.colorbar(fraction=0.045, pad=0.05,ticks=[-0.5,0,0.5])\n",
    "\n",
    "plt.subplot2grid((1,3),(0,2))\n",
    "plt.plot([-2,2],[-2,2],'r--')\n",
    "plt.scatter(np.triu(w0),np.triu(w),s=8)\n",
    "plt.xlabel('actual interactions')\n",
    "plt.ylabel('inferred interactions')\n",
    "\n",
    "plt.tight_layout(h_pad=1, w_pad=1.5)\n",
    "#plt.savefig('w.pdf', format='pdf', dpi=100)"
   ]
  },
  {
   "cell_type": "code",
   "execution_count": null,
   "metadata": {},
   "outputs": [],
   "source": [
    "#np.savetxt('w_02.txt',w,fmt='%f')"
   ]
  },
  {
   "cell_type": "code",
   "execution_count": null,
   "metadata": {},
   "outputs": [],
   "source": []
  }
 ],
 "metadata": {
  "kernelspec": {
   "display_name": "Python 2",
   "language": "python",
   "name": "python2"
  },
  "language_info": {
   "codemirror_mode": {
    "name": "ipython",
    "version": 3
   },
   "file_extension": ".py",
   "mimetype": "text/x-python",
   "name": "python",
   "nbconvert_exporter": "python",
   "pygments_lexer": "ipython3",
   "version": "3.7.3"
  }
 },
 "nbformat": 4,
 "nbformat_minor": 2
}
