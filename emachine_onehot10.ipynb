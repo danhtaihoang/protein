{
 "cells": [
  {
   "cell_type": "code",
   "execution_count": 1,
   "metadata": {},
   "outputs": [],
   "source": [
    "import numpy as np\n",
    "import matplotlib.pyplot as plt\n",
    "import emachine as EM\n",
    "\n",
    "from sklearn.preprocessing import OneHotEncoder"
   ]
  },
  {
   "cell_type": "code",
   "execution_count": 2,
   "metadata": {},
   "outputs": [],
   "source": [
    "np.random.seed(0)"
   ]
  },
  {
   "cell_type": "code",
   "execution_count": 3,
   "metadata": {},
   "outputs": [
    {
     "data": {
      "text/plain": [
       "(2000, 10)"
      ]
     },
     "execution_count": 3,
     "metadata": {},
     "output_type": "execute_result"
    }
   ],
   "source": [
    "s0 = np.loadtxt('s0.txt')\n",
    "s0.shape"
   ]
  },
  {
   "cell_type": "code",
   "execution_count": 4,
   "metadata": {},
   "outputs": [
    {
     "data": {
      "text/plain": [
       "(2000, 30)"
      ]
     },
     "execution_count": 4,
     "metadata": {},
     "output_type": "execute_result"
    }
   ],
   "source": [
    "onehot_encoder = OneHotEncoder(sparse=False,categories='auto')\n",
    "s = onehot_encoder.fit_transform(s0)\n",
    "s.shape"
   ]
  },
  {
   "cell_type": "code",
   "execution_count": 5,
   "metadata": {},
   "outputs": [],
   "source": [
    "n = 10; m = 3\n",
    "mx = np.array([m for i in range(n)])\n",
    "mx_cumsum = np.insert(mx.cumsum(),0,0)\n",
    "i1i2 = np.stack([mx_cumsum[:-1],mx_cumsum[1:]]).T "
   ]
  },
  {
   "cell_type": "code",
   "execution_count": 6,
   "metadata": {},
   "outputs": [
    {
     "data": {
      "text/plain": [
       "30"
      ]
     },
     "execution_count": 6,
     "metadata": {},
     "output_type": "execute_result"
    }
   ],
   "source": [
    "mx.sum()"
   ]
  },
  {
   "cell_type": "code",
   "execution_count": 7,
   "metadata": {},
   "outputs": [],
   "source": [
    "n_seq = s.shape[0]"
   ]
  },
  {
   "cell_type": "code",
   "execution_count": 8,
   "metadata": {},
   "outputs": [
    {
     "name": "stdout",
     "output_type": "stream",
     "text": [
      "(2000, 405) 405\n"
     ]
    }
   ],
   "source": [
    "n_ops = int((m**2)*n*(n-1)/2.)\n",
    "ops = np.zeros((n_seq,n_ops))\n",
    "ij_tab = np.zeros((n_ops,2))\n",
    "\n",
    "mx_sum = mx.sum()\n",
    "   \n",
    "ij = 0\n",
    "for i0 in range(n-1):\n",
    "    i1,i2 = i1i2[i0,0],i1i2[i0,1]\n",
    "    for i in range(i1,i2):\n",
    "        for j in range(i2,mx_sum):\n",
    "            ops[:,ij] = s[:,i]*s[:,j]\n",
    "            \n",
    "            ij_tab[ij,0] = i\n",
    "            ij_tab[ij,1] = j\n",
    "            \n",
    "            ij += 1\n",
    "print(ops.shape,ij)"
   ]
  },
  {
   "cell_type": "code",
   "execution_count": 9,
   "metadata": {},
   "outputs": [],
   "source": [
    "# convert 1,0 to 1,-1\n",
    "#ops = 2*ops - 1"
   ]
  },
  {
   "cell_type": "code",
   "execution_count": 10,
   "metadata": {},
   "outputs": [],
   "source": [
    "#ops = np.zeros((n_seq,2)) # initial 2D array to use np.hstack\n",
    "#for i0 in range(n-1):\n",
    "#    i1,i2 = i1i2[i0,0],i1i2[i0,1]\n",
    "#    for i in range(i1,i2):\n",
    "#        for j in range(i2,mx_sum):\n",
    "#            sij = s[:,i]*s[:,j]            \n",
    "#            ops = np.hstack([ops,sij[:,np.newaxis]])      \n",
    "#ops = ops[:,2:]  # delete the inital ops\n",
    "#print(ops.shape)          "
   ]
  },
  {
   "cell_type": "code",
   "execution_count": 11,
   "metadata": {
    "scrolled": true
   },
   "outputs": [
    {
     "name": "stdout",
     "output_type": "stream",
     "text": [
      "0.9 -8.98884854324458\n",
      "0.91 -8.939518979307111\n",
      "0.92 -8.892502478094377\n",
      "0.93 -8.847822660289502\n",
      "0.9400000000000001 -8.805514069209767\n",
      "0.95 -8.765624343497006\n",
      "0.96 -8.728217203567572\n",
      "0.97 -8.69337657106594\n",
      "0.98 -8.661212270084361\n",
      "0.99 -8.631867938099148\n",
      "1.0 -8.605532016288308\n"
     ]
    }
   ],
   "source": [
    "eps_list = np.linspace(0.9,1.0,11)\n",
    "E_eps = np.zeros(len(eps_list))\n",
    "w_eps = np.zeros((len(eps_list),ops.shape[1]))\n",
    "for i,eps in enumerate(eps_list):\n",
    "    w_eps[i,:],E_eps[i] = EM.fit(ops,eps=eps,max_iter=100)\n",
    "    print(eps,E_eps[i])"
   ]
  },
  {
   "cell_type": "code",
   "execution_count": 12,
   "metadata": {},
   "outputs": [],
   "source": [
    "w = w_eps[np.argmax(E_eps)]"
   ]
  },
  {
   "cell_type": "code",
   "execution_count": 13,
   "metadata": {},
   "outputs": [],
   "source": [
    "w0 = np.loadtxt('w0.txt')\n",
    "\n",
    "#w_true = np.zeros(ops.shape[1])\n",
    "#ij = 0\n",
    "#for i0 in range(n-1):\n",
    "#    i1,i2 = i1i2[i0,0],i1i2[i0,1]\n",
    "#    for i in range(i1,i2):\n",
    "#        for j in range(i2,mx_sum):\n",
    "#            w_true[ij] = w0[i,j]\n",
    "#            ij += 1"
   ]
  },
  {
   "cell_type": "code",
   "execution_count": 14,
   "metadata": {},
   "outputs": [],
   "source": [
    "w_pred = np.zeros((w0.shape[0],w0.shape[0]))\n",
    "\n",
    "for ij in range(n_ops):\n",
    "    w_pred[int(ij_tab[ij,0]),int(ij_tab[ij,1])] = w[int(ij)]  "
   ]
  },
  {
   "cell_type": "code",
   "execution_count": 15,
   "metadata": {},
   "outputs": [],
   "source": [
    "for i in range(n):        \n",
    "    i1,i2 = i1i2[i,0],i1i2[i,1]             \n",
    "    w_pred[:,i1:i2] -= w_pred[:,i1:i2].mean(axis=1)[:,np.newaxis]"
   ]
  },
  {
   "cell_type": "code",
   "execution_count": 16,
   "metadata": {},
   "outputs": [],
   "source": [
    "w_pred = w_pred + w_pred.T  "
   ]
  },
  {
   "cell_type": "code",
   "execution_count": 19,
   "metadata": {},
   "outputs": [
    {
     "data": {
      "image/png": "[encoded data removed]",
      "text/plain": [
       "<Figure size 792x230.4 with 5 Axes>"
      ]
     },
     "metadata": {
      "needs_background": "light"
     },
     "output_type": "display_data"
    }
   ],
   "source": [
    "plt.figure(figsize=(11,3.2))\n",
    "\n",
    "plt.subplot2grid((1,3),(0,0))\n",
    "plt.title('actual interaction matrix')\n",
    "plt.imshow(w0,cmap='rainbow',origin='lower')\n",
    "plt.xlabel('j')\n",
    "plt.ylabel('i')\n",
    "plt.xticks(np.arange(0, 30, 10))\n",
    "plt.yticks(np.arange(0, 30, 10))\n",
    "plt.clim(-0.5,0.5)\n",
    "plt.colorbar(fraction=0.045, pad=0.05,ticks=[-0.5,0,0.5])\n",
    "\n",
    "plt.subplot2grid((1,3),(0,1))\n",
    "plt.title('predicted interaction matrix')\n",
    "plt.imshow(w_pred,cmap='rainbow',origin='lower')\n",
    "plt.xlabel('j')\n",
    "plt.ylabel('i')\n",
    "plt.xticks(np.arange(0, 30, 10))\n",
    "plt.yticks(np.arange(0, 30, 10))\n",
    "plt.clim(-0.2,0.2)\n",
    "plt.colorbar(fraction=0.045, pad=0.05,ticks=[-0.2,0,0.2])\n",
    "\n",
    "plt.subplot2grid((1,3),(0,2))\n",
    "plt.plot([-2,2],[-2,2],'r--')\n",
    "plt.scatter(np.triu(w0),np.triu(w_pred),s=8)\n",
    "plt.xlabel('actual interactions')\n",
    "plt.ylabel('inferred interactions')\n",
    "\n",
    "plt.tight_layout(h_pad=1, w_pad=1.5)\n",
    "#plt.savefig('w.pdf', format='pdf', dpi=100)"
   ]
  },
  {
   "cell_type": "code",
   "execution_count": null,
   "metadata": {},
   "outputs": [],
   "source": []
  }
 ],
 "metadata": {
  "kernelspec": {
   "display_name": "Python 3",
   "language": "python",
   "name": "python3"
  },
  "language_info": {
   "codemirror_mode": {
    "name": "ipython",
    "version": 3
   },
   "file_extension": ".py",
   "mimetype": "text/x-python",
   "name": "python",
   "nbconvert_exporter": "python",
   "pygments_lexer": "ipython3",
   "version": "3.7.3"
  }
 },
 "nbformat": 4,
 "nbformat_minor": 2
}
